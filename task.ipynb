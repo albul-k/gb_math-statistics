{
 "metadata": {
  "language_info": {
   "codemirror_mode": {
    "name": "ipython",
    "version": 3
   },
   "file_extension": ".py",
   "mimetype": "text/x-python",
   "name": "python",
   "nbconvert_exporter": "python",
   "pygments_lexer": "ipython3",
   "version": "3.7.7-final"
  },
  "orig_nbformat": 2,
  "kernelspec": {
   "name": "python38232bit19c972126b724aac879ac112e9ba0e70",
   "display_name": "Python 3.8.2 32-bit",
   "language": "python"
  }
 },
 "nbformat": 4,
 "nbformat_minor": 2,
 "cells": [
  {
   "source": [
    "#### Случайная непрерывная величина A имеет равномерное распределение на промежутке (200, 800].\n",
    " * Найдите ее среднее значение и дисперсию."
   ],
   "cell_type": "markdown",
   "metadata": {}
  },
  {
   "cell_type": "code",
   "execution_count": 20,
   "metadata": {},
   "outputs": [
    {
     "output_type": "stream",
     "name": "stdout",
     "text": [
      "Среднее: 500.5\nДисперсия: 29999.917\n"
     ]
    }
   ],
   "source": [
    "def average(items):\n",
    "    return sum(items) / len(items)\n",
    "\n",
    "def variance_biased(items, avg):\n",
    "    return sum(map(lambda itm: (itm - avg)**2, items)) / len(items)\n",
    "\n",
    "a = 201\n",
    "b = 800\n",
    "\n",
    "A = [i for i in range(a, b + 1)]\n",
    "\n",
    "print(f'Среднее: {round(average(A), 3)}')\n",
    "print(f'Дисперсия: {round(variance_biased(A, average(A)), 3)}')"
   ]
  },
  {
   "source": [
    "#### О случайной непрерывной равномерно распределенной величине B известно, что ее дисперсия равна 0.2.\n",
    " * Можно ли найти правую границу величины B и ее среднее значение зная, что левая граница равна 0.5? Если да, найдите ее."
   ],
   "cell_type": "markdown",
   "metadata": {}
  },
  {
   "cell_type": "code",
   "execution_count": 22,
   "metadata": {},
   "outputs": [
    {
     "output_type": "stream",
     "name": "stdout",
     "text": [
      "Правая граница: 2.049193338482967\nСреднее значение: 1.275\n"
     ]
    }
   ],
   "source": [
    "from math import sqrt\n",
    "\n",
    "var = 0.2\n",
    "a = 0.5\n",
    "\n",
    "b = sqrt(var * 12) + a\n",
    "\n",
    "print(f'Правая граница: {b}')\n",
    "print(f'Среднее значение: {round((a + b) / 2, 3)}')"
   ]
  },
  {
   "source": [
    "#### Непрерывная случайная величина X распределена нормально и задана плотностью распределения f(x) = (1 / (4 * sqrt(2*pi))) * (exp(-(x+2)**2) / 32). Найдите:\n",
    " * а). M(X)\n",
    " * б). D(X)\n",
    " * в). std(X) (среднее квадратичное отклонение)"
   ],
   "cell_type": "markdown",
   "metadata": {}
  },
  {
   "source": [
    "#### Рост взрослого населения города X имеет нормальное распределение. Причем, средний рост равен 174 см, а среднее квадратичное отклонение равно 8 см. Какова вероятность того, что случайным образом выбранный взрослый человек имеет рост:\n",
    " * а). больше 182 см\n",
    " * б). больше 190 см\n",
    " * в). от 166 см до 190 см\n",
    " * г). от 166 см до 182 см\n",
    " * д). от 158 см до 190 см\n",
    " * е). не выше 150 см или не ниже 190 см\n",
    " * ё). не выше 150 см или не ниже 198 см\n",
    " * ж). ниже 166 см."
   ],
   "cell_type": "markdown",
   "metadata": {}
  },
  {
   "source": [
    "#### На сколько сигм (средних квадратичных отклонений) отклоняется рост человека, равный 190 см, от математического ожидания роста в популяции, в которой M(X) = 178 см и D(X) = 25 кв.см?"
   ],
   "cell_type": "markdown",
   "metadata": {}
  }
 ]
}