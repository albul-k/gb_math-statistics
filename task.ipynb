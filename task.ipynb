{
 "metadata": {
  "language_info": {
   "codemirror_mode": {
    "name": "ipython",
    "version": 3
   },
   "file_extension": ".py",
   "mimetype": "text/x-python",
   "name": "python",
   "nbconvert_exporter": "python",
   "pygments_lexer": "ipython3",
   "version": "3.7.7-final"
  },
  "orig_nbformat": 2,
  "kernelspec": {
   "name": "python38232bit19c972126b724aac879ac112e9ba0e70",
   "display_name": "Python 3.8.2 32-bit",
   "language": "python"
  }
 },
 "nbformat": 4,
 "nbformat_minor": 2,
 "cells": [
  {
   "source": [
    "#### Даны значения величины заработной платы заемщиков банка (zp) и значения их поведенческого кредитного скоринга (ks): zp = [35, 45, 190, 200, 40, 70, 54, 150, 120, 110], ks = [401, 574, 874, 919, 459, 739, 653, 902, 746, 832].\n",
    " * Используя математические операции, посчитать коэффициенты линейной регрессии, приняв за X заработную плату (то есть, zp - признак), а за y - значения скорингового балла (то есть, ks - целевая переменная).\n",
    " * Произвести расчет как с использованием intercept, так и без."
   ],
   "cell_type": "markdown",
   "metadata": {}
  },
  {
   "cell_type": "code",
   "execution_count": 7,
   "metadata": {},
   "outputs": [
    {
     "output_type": "stream",
     "name": "stdout",
     "text": [
      "Уравнение регрессии: y = 444.18 + 2.62*x\n\nВычисление регрессии: [535.89621821 562.10160703 942.07974498 968.2851338  548.99891262\n 627.61507909 585.68645697 837.25818968 758.64202321 732.43663439]\n\nR2: 0.7876386635293682\n"
     ]
    }
   ],
   "source": [
    "import numpy as np\n",
    "\n",
    "zp = [35, 45, 190, 200, 40, 70, 54, 150, 120, 110]\n",
    "ks = [401, 574, 874, 919, 459, 739, 653, 902, 746, 832]\n",
    "\n",
    "x = np.array(zp, dtype=np.float64)\n",
    "y = np.array(ks, dtype=np.float64)\n",
    "\n",
    "b = (np.mean(x * y) - np.mean(x) * np.mean(y)) / (np.mean(x**2) - np.mean(x) ** 2)\n",
    "a = np.mean(y) - b * np.mean(x)\n",
    "\n",
    "print(f'Уравнение регрессии: y = {round(a,2)} + {round(b,2)}*x\\n')\n",
    "\n",
    "y_pred = a + b * x\n",
    "print(f'Вычисление регрессии: {y_pred}\\n')\n",
    "\n",
    "r = b * np.std(x) / np.std(y)\n",
    "print(f'R2: {r**2}')"
   ]
  },
  {
   "source": [
    "#### В каких случаях для вычисления доверительных интервалов и проверки статистических гипотез используется таблица значений функции Лапласа, а в каких - таблица критических точек распределения Стьюдента?"
   ],
   "cell_type": "markdown",
   "metadata": {}
  },
  {
   "cell_type": "code",
   "execution_count": null,
   "metadata": {},
   "outputs": [],
   "source": [
    "Лаплас применяется на большой выборке, Стьюдент на малой."
   ]
  }
 ]
}