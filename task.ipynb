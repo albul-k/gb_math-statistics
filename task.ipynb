{
 "metadata": {
  "language_info": {
   "codemirror_mode": {
    "name": "ipython",
    "version": 3
   },
   "file_extension": ".py",
   "mimetype": "text/x-python",
   "name": "python",
   "nbconvert_exporter": "python",
   "pygments_lexer": "ipython3",
   "version": "3.7.7-final"
  },
  "orig_nbformat": 2,
  "kernelspec": {
   "name": "python38232bit19c972126b724aac879ac112e9ba0e70",
   "display_name": "Python 3.8.2 32-bit",
   "language": "python"
  }
 },
 "nbformat": 4,
 "nbformat_minor": 2,
 "cells": [
  {
   "source": [
    "#### Случайная непрерывная величина A имеет равномерное распределение на промежутке (200, 800].\n",
    " * Найдите ее среднее значение и дисперсию."
   ],
   "cell_type": "markdown",
   "metadata": {}
  },
  {
   "cell_type": "code",
   "execution_count": 25,
   "metadata": {},
   "outputs": [
    {
     "output_type": "stream",
     "name": "stdout",
     "text": [
      "Среднее: 500.0\nДисперсия: 30000.0\n"
     ]
    }
   ],
   "source": [
    "def M(items):\n",
    "    return sum(items) / 2\n",
    "\n",
    "def D(a, b):\n",
    "    return (b - a)**2 / 12\n",
    "\n",
    "a = 200\n",
    "b = 800\n",
    "\n",
    "print(f'Среднее: {round(M([a, b]), 3)}')\n",
    "print(f'Дисперсия: {round(D(a, b), 3)}')"
   ]
  },
  {
   "source": [
    "#### О случайной непрерывной равномерно распределенной величине B известно, что ее дисперсия равна 0.2.\n",
    " * Можно ли найти правую границу величины B и ее среднее значение зная, что левая граница равна 0.5? Если да, найдите ее."
   ],
   "cell_type": "markdown",
   "metadata": {}
  },
  {
   "cell_type": "code",
   "execution_count": 22,
   "metadata": {},
   "outputs": [
    {
     "output_type": "stream",
     "name": "stdout",
     "text": [
      "Правая граница: 2.049193338482967\nСреднее значение: 1.275\n"
     ]
    }
   ],
   "source": [
    "from math import sqrt\n",
    "\n",
    "var = 0.2\n",
    "a = 0.5\n",
    "\n",
    "b = sqrt(var * 12) + a\n",
    "\n",
    "print(f'Правая граница: {b}')\n",
    "print(f'Среднее значение: {round((a + b) / 2, 3)}')"
   ]
  },
  {
   "source": [
    "#### Непрерывная случайная величина X распределена нормально и задана плотностью распределения f(x) = (1 / (4 * sqrt(2*pi))) * (exp(-(x+2)**2) / 32). Найдите:\n",
    " * а). M(X)\n",
    " * б). D(X)\n",
    " * в). std(X) (среднее квадратичное отклонение)"
   ],
   "cell_type": "markdown",
   "metadata": {}
  },
  {
   "source": [
    "Плотность вероятности нормального распределения:\n",
    "$$f(x) = \\frac{1}{\\sigma \\sqrt{2 \\pi}} e ^ {- \\frac{(x - a)^2}{2 \\sigma^2}}$$"
   ],
   "cell_type": "markdown",
   "metadata": {}
  },
  {
   "cell_type": "code",
   "execution_count": 49,
   "metadata": {},
   "outputs": [
    {
     "output_type": "stream",
     "name": "stdout",
     "text": [
      "а): -2\nб): 16\nв): 4\n"
     ]
    }
   ],
   "source": [
    "M = a = -1 * (2)\n",
    "std = Sigma = 4\n",
    "D = Sigma**2\n",
    "\n",
    "print(f'а): {M}')\n",
    "print(f'б): {D}')\n",
    "print(f'в): {std}')"
   ]
  },
  {
   "source": [
    "#### Рост взрослого населения города X имеет нормальное распределение. Причем, средний рост равен 174 см, а среднее квадратичное отклонение равно 8 см. Какова вероятность того, что случайным образом выбранный взрослый человек имеет рост:\n",
    " * а). больше 182 см\n",
    " * б). больше 190 см\n",
    " * в). от 166 см до 190 см\n",
    " * г). от 166 см до 182 см\n",
    " * д). от 158 см до 190 см\n",
    " * е). не выше 150 см или не ниже 190 см\n",
    " * ё). не выше 150 см или не ниже 198 см\n",
    " * ж). ниже 166 см."
   ],
   "cell_type": "markdown",
   "metadata": {}
  },
  {
   "cell_type": "code",
   "execution_count": 50,
   "metadata": {},
   "outputs": [
    {
     "output_type": "stream",
     "name": "stdout",
     "text": [
      "а): 0.159\nб): 0.023\nв): 0.819\nг): 0.683\nд): 0.954\nе): 0.024\nё): 0.003\nж): 0.159\n"
     ]
    }
   ],
   "source": [
    "from scipy.special import erf\n",
    "\n",
    "M = 174\n",
    "Sigma = 8\n",
    "\n",
    "def Phi(num, sigma, M):\n",
    "    X = ((num - M) / sigma)\n",
    "    return erf(X/2**0.5) / 2\n",
    "\n",
    "print(f'а): {round(0.5 - Phi(182, Sigma, M), 3)}')\n",
    "print(f'б): {round(0.5 - Phi(190, Sigma, M), 3)}')\n",
    "print(f'в): {round(Phi(190, Sigma, M) - Phi(166, Sigma, M), 3)}')\n",
    "print(f'г): {round(Phi(182, Sigma, M) - Phi(166, Sigma, M), 3)}')\n",
    "print(f'д): {round(Phi(190, Sigma, M) - Phi(158, Sigma, M), 3)}')\n",
    "print(f'е): {round(1 - (Phi(190, Sigma, M) - Phi(150, Sigma, M)), 3)}')\n",
    "print(f'ё): {round(1 - (Phi(198, Sigma, M) - Phi(150, Sigma, M)), 3)}')\n",
    "print(f'ж): {round(Phi(166, Sigma, M) + 0.5, 3)}')"
   ]
  },
  {
   "source": [
    "#### На сколько сигм (средних квадратичных отклонений) отклоняется рост человека, равный 190 см, от математического ожидания роста в популяции, в которой M(X) = 178 см и D(X) = 25 кв.см?"
   ],
   "cell_type": "markdown",
   "metadata": {}
  },
  {
   "cell_type": "code",
   "execution_count": 4,
   "metadata": {},
   "outputs": [
    {
     "output_type": "stream",
     "name": "stdout",
     "text": [
      "2.0\n"
     ]
    }
   ],
   "source": [
    "from math import sqrt\n",
    "\n",
    "M = 178\n",
    "D = 25\n",
    "\n",
    "print(round((190 - M) / sqrt(D), 0))"
   ]
  }
 ]
}