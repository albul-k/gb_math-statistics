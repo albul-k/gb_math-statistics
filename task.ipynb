{
 "metadata": {
  "language_info": {
   "codemirror_mode": {
    "name": "ipython",
    "version": 3
   },
   "file_extension": ".py",
   "mimetype": "text/x-python",
   "name": "python",
   "nbconvert_exporter": "python",
   "pygments_lexer": "ipython3",
   "version": "3.7.7-final"
  },
  "orig_nbformat": 2,
  "kernelspec": {
   "name": "python37764bit3fbe5ae206bf467f9f636d844c57ff6e",
   "display_name": "Python 3.7.7 64-bit",
   "language": "python"
  }
 },
 "nbformat": 4,
 "nbformat_minor": 2,
 "cells": [
  {
   "source": [
    "1. Вероятность того, что стрелок попадет в мишень, выстрелив один раз, равна 0.8. Стрелок выстрелил 100 раз. \n",
    "* Найдите вероятность того, что стрелок попадет в цель ровно 85 раз.\n",
    "$$P_n(X=k) = C_n^k p^k q^{n-k}$$"
   ],
   "cell_type": "markdown",
   "metadata": {}
  },
  {
   "cell_type": "code",
   "execution_count": 10,
   "metadata": {},
   "outputs": [
    {
     "output_type": "stream",
     "name": "stdout",
     "text": [
      "0.05\n"
     ]
    }
   ],
   "source": [
    "from math import factorial\n",
    "\n",
    "def binomial_distribution(n, k, p):\n",
    "    \"\"\"Биномиальное распределение\"\"\"\n",
    "\n",
    "    def combinations(n, k):\n",
    "        return int(factorial(n) / (factorial(k) * factorial(n - k)))\n",
    "    \n",
    "    return combinations(n, k) * (p ** k) * (1 - p) ** (n - k)\n",
    "\n",
    "print(round(binomial_distribution(n=100, k=85, p=0.8), 2))"
   ]
  },
  {
   "source": [
    "2. Вероятность того, что лампочка перегорит в течение первого дня эксплуатации, равна 0.0004. В жилом комплексе после ремонта в один день включили 5000 новых лампочек. \n",
    "* Какова вероятность, что ни одна из них не перегорит в первый день? \n",
    "* Какова вероятность, что перегорят ровно две?\n",
    "$$P_m = \\frac{\\lambda^m}{m!}e^{-\\lambda}$$"
   ],
   "cell_type": "markdown",
   "metadata": {}
  },
  {
   "cell_type": "code",
   "execution_count": 9,
   "metadata": {},
   "outputs": [
    {
     "output_type": "stream",
     "name": "stdout",
     "text": [
      "P, что ни одна не перегорит: 0.14\nP, что перегорят 2шт: 0.27\n"
     ]
    }
   ],
   "source": [
    "import numpy as np\n",
    "\n",
    "def puasson_distribution(n, m, p):\n",
    "    \"\"\"Распределение Пуассона\"\"\"\n",
    "\n",
    "    lmbd = n * p\n",
    "    return (lmbd**m / np.math.factorial(m)) * np.exp(-lmbd)\n",
    "\n",
    "print(f'P, что ни одна не перегорит: {round(puasson_distribution(n=5000, m=0, p=0.0004), 2)}')\n",
    "print(f'P, что перегорят 2шт: {round(puasson_distribution(n=5000, m=2, p=0.0004), 2)}')"
   ]
  },
  {
   "source": [
    "3. Монету подбросили 144 раза. Какова вероятность, что орел выпадет ровно 70 раз?\n",
    "$$P_n(X=k) = C_n^k p^k q^{n-k}$$"
   ],
   "cell_type": "markdown",
   "metadata": {}
  },
  {
   "cell_type": "code",
   "execution_count": 11,
   "metadata": {},
   "outputs": [
    {
     "output_type": "stream",
     "name": "stdout",
     "text": [
      "0.06\n"
     ]
    }
   ],
   "source": [
    "from math import factorial\n",
    "\n",
    "def binomial_distribution(n, k, p):\n",
    "    \"\"\"Биномиальное распределение\"\"\"\n",
    "\n",
    "    def combinations(n, k):\n",
    "        return int(factorial(n) / (factorial(k) * factorial(n - k)))\n",
    "    \n",
    "    return combinations(n, k) * (p ** k) * (1 - p) ** (n - k)\n",
    "\n",
    "print(round(binomial_distribution(n=144, k=70, p=0.5), 2))"
   ]
  },
  {
   "source": [
    "4. В первом ящике находится 10 мячей, из которых 7 - белые. Во втором ящике - 11 мячей, из которых 9 белых. Из каждого ящика вытаскивают случайным образом по два мяча. \n",
    "* Какова вероятность того, что все мячи белые? \n",
    "* Какова вероятность того, что ровно два мяча белые? \n",
    "* Какова вероятность того, что хотя бы один мяч белый?"
   ],
   "cell_type": "markdown",
   "metadata": {}
  },
  {
   "cell_type": "code",
   "execution_count": 34,
   "metadata": {},
   "outputs": [],
   "source": [
    "from math import factorial\n",
    "\n",
    "def combinations(n, k):\n",
    "    return int(factorial(n) / (factorial(k) * factorial(n - k)))"
   ]
  },
  {
   "cell_type": "code",
   "execution_count": 56,
   "metadata": {},
   "outputs": [
    {
     "output_type": "stream",
     "name": "stdout",
     "text": [
      "Вероятность события: 0.30545\n"
     ]
    }
   ],
   "source": [
    "\"\"\"Какова вероятность того, что все мячи белые?\"\"\"\n",
    "\n",
    "# Событие наступит, если из первого ящика вытащить 2 белых шара и из второго ящика также вытащить 2 шара\n",
    "prob_box_1 = (combinations(7, 2) * combinations(3, 0)) / combinations(10, 2)\n",
    "prob_box_2 = (combinations(9, 2) * combinations(2, 0)) / combinations(11, 2)\n",
    "print(f'Вероятность события: {round(prob_box_1 * prob_box_2, 5)}')"
   ]
  },
  {
   "cell_type": "code",
   "execution_count": 55,
   "metadata": {},
   "outputs": [
    {
     "output_type": "stream",
     "name": "stdout",
     "text": [
      "Исход #1: 0.01\nИсход #2: 0.15\nИсход #3: 0.04\n\nВероятность события: 0.20485\n"
     ]
    }
   ],
   "source": [
    "\"\"\"Какова вероятность того, что ровно два мяча белые?\"\"\"\n",
    "\n",
    "# Исход #1: из первого ящика достали 2 белых шара, из второго 2 черных\n",
    "prob_1_box_1 = (combinations(7, 2) * combinations(3, 0)) / combinations(10, 2)\n",
    "prob_1_box_2 = (combinations(9, 0) * combinations(2, 2)) / combinations(11, 2)\n",
    "prob_1 = prob_1_box_1 * prob_1_box_2\n",
    "print(f'Исход #1: {round(prob_1, 2)}')\n",
    "\n",
    "# Исход #2: из обоих ящиков достали по белому и по черному шару\n",
    "prob_2_box_1 = (combinations(7, 1) * combinations(3, 1)) / combinations(10, 2)\n",
    "prob_2_box_2 = (combinations(9, 1) * combinations(2, 1)) / combinations(11, 2)\n",
    "prob_2 = prob_2_box_1 * prob_2_box_2\n",
    "print(f'Исход #2: {round(prob_2, 2)}')\n",
    "\n",
    "# Исход #3: из первого ящика достали 2 черных шара, из второго 2 белых\n",
    "prob_3_box_1 = (combinations(7, 0) * combinations(3, 2)) / combinations(10, 2)\n",
    "prob_3_box_2 = (combinations(9, 2) * combinations(2, 0)) / combinations(11, 2)\n",
    "prob_3 = prob_3_box_1 * prob_3_box_2\n",
    "print(f'Исход #3: {round(prob_3, 2)}\\n')\n",
    "\n",
    "print(f'Вероятность события: {round(prob_1 + prob_2 + prob_3, 5)}')"
   ]
  },
  {
   "cell_type": "code",
   "execution_count": 53,
   "metadata": {},
   "outputs": [
    {
     "output_type": "stream",
     "name": "stdout",
     "text": [
      "Вероятность события: 0.99879\n"
     ]
    }
   ],
   "source": [
    "\"\"\"Какова вероятность того, что хотя бы один мяч белый?\"\"\"\n",
    "\n",
    "# Из 1 необходимо вычесть вероятность события, когда из первого и второго ящика вытащили по 2 черных шара\n",
    "prob_box_1 = (combinations(7, 0) * combinations(3, 2)) / combinations(10, 2)\n",
    "prob_box_2 = (combinations(9, 0) * combinations(2, 2)) / combinations(11, 2)\n",
    "\n",
    "print(f'Вероятность события: {round(1 - (prob_box_1 * prob_box_2), 5)}')"
   ]
  }
 ]
}