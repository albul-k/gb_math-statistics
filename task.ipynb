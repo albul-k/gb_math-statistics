{
 "metadata": {
  "language_info": {
   "codemirror_mode": {
    "name": "ipython",
    "version": 3
   },
   "file_extension": ".py",
   "mimetype": "text/x-python",
   "name": "python",
   "nbconvert_exporter": "python",
   "pygments_lexer": "ipython3",
   "version": "3.7.7-final"
  },
  "orig_nbformat": 2,
  "kernelspec": {
   "name": "python38232bit19c972126b724aac879ac112e9ba0e70",
   "display_name": "Python 3.8.2 32-bit",
   "language": "python"
  }
 },
 "nbformat": 4,
 "nbformat_minor": 2,
 "cells": [
  {
   "source": [
    "#### Провести дисперсионный анализ для определения того, есть ли различия среднего роста среди взрослых футболистов, хоккеистов и штангистов. Даны значения роста в трех группах случайно выбранных спортсменов: Футболисты: 173, 175, 180, 178, 177, 185, 183, 182. Хоккеисты: 177, 179, 180, 188, 177, 172, 171, 184, 180. Штангисты: 172, 173, 169, 177, 166, 180, 178, 177, 172, 166, 170. alpha = 0.05."
   ],
   "cell_type": "markdown",
   "metadata": {}
  },
  {
   "cell_type": "code",
   "execution_count": 35,
   "metadata": {},
   "outputs": [
    {
     "output_type": "stream",
     "name": "stdout",
     "text": [
      "Футболисты: 179.0\nХокеисты: 179.0\nШтангисты: 173.0\nСредний рост по всем группам: 176.0\n\nСумма квадратов отклонений (s2): 830.9642857142854\nСумма квадратов отклонений средних групповых значений (s2_f): 253.9074675324678\nОстаточная сумма квадратов отклонений (s2_residual): 577.0568181818182\n\nПроверка s2_f+s2_residual=: 830.964285714286\n\nОбщая дисперсия: 30.776455026455015\nФакторная дисперсия: 126.9537337662339\nОстаточная дисперсия: 23.08227272727273\n\nF_h: 5.500053450812598\nV_1, V_2: (2, 25)\nF_cr=: 3.38\nВывод: различие статистически значимо\n"
     ]
    }
   ],
   "source": [
    "import numpy as np\n",
    "\n",
    "football_players = np.array([173, 175, 180, 178, 177, 185, 183, 182], dtype=np.float64)\n",
    "hockey_players = np.array([177, 179, 180, 188, 177, 172, 171, 184, 180], dtype=np.float64)\n",
    "weightlifters = np.array([172, 173, 169, 177, 166, 180, 178, 177, 172, 166, 170], dtype=np.float64)\n",
    "\n",
    "alpha = 0.05\n",
    "k = 3\n",
    "n = 0\n",
    "for itm in [football_players, hockey_players, weightlifters]:\n",
    "    n += len(itm)\n",
    "\n",
    "football_players_mean = np.mean(football_players)\n",
    "print(f'Футболисты: {round(football_players_mean, 0)}')\n",
    "\n",
    "hockey_players_mean = np.mean(hockey_players)\n",
    "print(f'Хокеисты: {round(hockey_players_mean, 0)}')\n",
    "\n",
    "weightlifters_mean = np.mean(weightlifters)\n",
    "print(f'Штангисты: {round(weightlifters_mean, 0)}')\n",
    "\n",
    "# все значения роста\n",
    "y_all = np.concatenate([football_players, hockey_players, weightlifters])\n",
    "\n",
    "y_mean = np.mean(y_all)\n",
    "print(f'Средний рост по всем группам: {round(y_mean, 0)}')\n",
    "\n",
    "s2 = np.sum((y_all - y_mean)**2)\n",
    "print(f'\\nСумма квадратов отклонений (s2): {s2}')\n",
    "\n",
    "s2_f = ((football_players_mean - y_mean)**2) * len(football_players) +\\\n",
    "        ((hockey_players_mean - y_mean)**2) * len(hockey_players) +\\\n",
    "        ((weightlifters_mean - y_mean)**2) * len(weightlifters)\n",
    "print(f'Сумма квадратов отклонений средних групповых значений (s2_f): {s2_f}')\n",
    "\n",
    "s2_residual = np.sum((football_players - football_players_mean)**2) +\\\n",
    "                np.sum((hockey_players - hockey_players_mean)**2) +\\\n",
    "                np.sum((weightlifters - weightlifters_mean)**2)\n",
    "print(f'Остаточная сумма квадратов отклонений (s2_residual): {s2_residual}')\n",
    "print(f'\\nПроверка s2_f+s2_residual=: {s2_f + s2_residual}')\n",
    "\n",
    "sigma2_general = s2 / (n - 1)\n",
    "print(f'\\nОбщая дисперсия: {sigma2_general}')\n",
    "\n",
    "sigma2_f = s2_f / (k - 1)\n",
    "print(f'Факторная дисперсия: {sigma2_f}')\n",
    "\n",
    "sigma2_residual = s2_residual / (n - k)\n",
    "print(f'Остаточная дисперсия: {sigma2_residual}')\n",
    "\n",
    "F_h = sigma2_f / sigma2_residual\n",
    "print(f'\\nF_h: {F_h}')\n",
    "\n",
    "V_1 = k - 1\n",
    "V_2 = n - k\n",
    "print(f'V_1, V_2: {V_1, V_2}')\n",
    "\n",
    "# взято из таблицы критических точек распределения Фишера-Снедекора для заданного уровня значимости alpha\n",
    "F_cr=3.38\n",
    "print(f'F_cr=: {F_cr}')\n",
    "\n",
    "print(f'Вывод: {\"различие статистически значимо\" if F_h > F_cr else \"различие статистически не значимо\"}')"
   ]
  },
  {
   "source": [
    "Прикрепить ссылку на курсовой проект на github. (см. выбор темы в ДЗ к Уроку 6)"
   ],
   "cell_type": "markdown",
   "metadata": {}
  }
 ]
}