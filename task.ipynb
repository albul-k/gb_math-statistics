{
 "metadata": {
  "language_info": {
   "codemirror_mode": {
    "name": "ipython",
    "version": 3
   },
   "file_extension": ".py",
   "mimetype": "text/x-python",
   "name": "python",
   "nbconvert_exporter": "python",
   "pygments_lexer": "ipython3",
   "version": "3.7.7-final"
  },
  "orig_nbformat": 2,
  "kernelspec": {
   "name": "python38232bit19c972126b724aac879ac112e9ba0e70",
   "display_name": "Python 3.8.2 32-bit",
   "language": "python"
  }
 },
 "nbformat": 4,
 "nbformat_minor": 2,
 "cells": [
  {
   "source": [
    "#### Даны значения величины заработной платы заемщиков банка (zp) и значения их поведенческого кредитного скоринга (ks):\n",
    "zp = [35, 45, 190, 200, 40, 70, 54, 150, 120, 110],\n",
    "ks = [401, 574, 874, 919, 459, 739, 653, 902, 746, 832].\n",
    " * Найдите ковариацию этих двух величин с помощью элементарных действий, а затем с помощью функции cov из numpy. Полученные значения должны быть равны\n",
    " * Найдите коэффициент корреляции Пирсона с помощью ковариации и среднеквадратичных отклонений двух признаков, а затем с использованием функций из библиотек numpy и pandas"
   ],
   "cell_type": "markdown",
   "metadata": {}
  },
  {
   "cell_type": "code",
   "execution_count": 50,
   "metadata": {},
   "outputs": [
    {
     "output_type": "stream",
     "name": "stdout",
     "text": [
      "Ковариация: 9157.839999999997\nКорреляция: 0.8874900920739158\nКовариация numpy.cov(): 9157.84\nКовариация numpy.corrcoef(): 0.8874900920739162\nКовариация pandas.corr(): 0.8874900920739168\n"
     ]
    }
   ],
   "source": [
    "import numpy as np\n",
    "import pandas as pd\n",
    "\n",
    "zp = [35, 45, 190, 200, 40, 70, 54, 150, 120, 110]\n",
    "ks = [401, 574, 874, 919, 459, 739, 653, 902, 746, 832]\n",
    "\n",
    "# Среднее значение zp*ks\n",
    "zp_ks_mean = np.mean(list(map(lambda itm: itm[0] * itm[1], zip(zp, ks))))\n",
    "\n",
    "# Среднее значение zp\n",
    "zp_mean = np.mean(zp)\n",
    "\n",
    "# Среднее значение ks\n",
    "ks_mean = np.mean(ks)\n",
    "\n",
    "my_cov = zp_ks_mean - (zp_mean * ks_mean)\n",
    "print(f'Ковариация: {my_cov}')\n",
    "\n",
    "my_corr = my_cov / (np.std(zp) * np.std(ks))\n",
    "print(f'Корреляция: {my_corr}')\n",
    "\n",
    "print(f'Ковариация numpy.cov(): {np.cov(zp, ks, bias=True)[0, 1]}')\n",
    "print(f'Ковариация numpy.corrcoef(): {np.corrcoef(zp, ks)[0, 1]}')\n",
    "\n",
    "df = pd.DataFrame({'zp':zp, 'ks':ks})\n",
    "print(f'Ковариация pandas.corr(): {df.corr()[0:1][\"ks\"].values[0]}')"
   ]
  },
  {
   "source": [
    "#### Измерены значения IQ выборки студентов, обучающихся в местных технических вузах: 131, 125, 115, 122, 131, 115, 107, 99, 125, 111. Известно, что в генеральной совокупности IQ распределен нормально.\n",
    " * Найдите доверительный интервал для математического ожидания с надежностью 0.95"
   ],
   "cell_type": "markdown",
   "metadata": {}
  },
  {
   "cell_type": "code",
   "execution_count": 60,
   "metadata": {},
   "outputs": [
    {
     "output_type": "stream",
     "name": "stdout",
     "text": [
      "Доверительный интервал(112.0; 124.0)\n"
     ]
    }
   ],
   "source": [
    "import numpy as np\n",
    "from math import sqrt\n",
    "\n",
    "X = [131, 125, 115, 122, 131, 115, 107, 99, 125, 111]\n",
    "\n",
    "X_mean = np.mean(X)\n",
    "T = (1.96 * np.std(X)) / sqrt(len(X))\n",
    "print(f'Доверительный интервал({round(X_mean - T, 0)}; {round(X_mean + T, 0)})')"
   ]
  },
  {
   "source": [
    "#### Известно, что рост футболистов в сборной распределен нормально с дисперсией генеральной совокупности, равной 25 кв.см. Объем выборки равен 27, среднее выборочное составляет 174.2.\n",
    " * Найдите доверительный интервал для математического ожидания с надежностью 0.95"
   ],
   "cell_type": "markdown",
   "metadata": {}
  },
  {
   "cell_type": "code",
   "execution_count": 59,
   "metadata": {},
   "outputs": [
    {
     "output_type": "stream",
     "name": "stdout",
     "text": [
      "Доверительный интервал(165.0; 184.0)\n"
     ]
    }
   ],
   "source": [
    "import numpy as np\n",
    "from math import sqrt\n",
    "\n",
    "v = 25\n",
    "X_mean = 174.2\n",
    "n = 27\n",
    "\n",
    "T = (1.96 * v) / sqrt(n)\n",
    "print(f'Доверительный интервал({round(X_mean - T, 0)}; {round(X_mean + T, 0)})')"
   ]
  },
  {
   "source": [
    "#### Выберите тему для проектной работы по курсу Теории вероятностей и математической статистики и напишите ее в комментарии к Практическому заданию."
   ],
   "cell_type": "markdown",
   "metadata": {}
  },
  {
   "source": [
    " * Проверка корреляции между индексом S&P500 и акциями из разных секторов с российского фондового рынка."
   ],
   "cell_type": "markdown",
   "metadata": {}
  }
 ]
}