{
 "metadata": {
  "language_info": {
   "codemirror_mode": {
    "name": "ipython",
    "version": 3
   },
   "file_extension": ".py",
   "mimetype": "text/x-python",
   "name": "python",
   "nbconvert_exporter": "python",
   "pygments_lexer": "ipython3",
   "version": "3.8.2-final"
  },
  "orig_nbformat": 2,
  "kernelspec": {
   "name": "python38232bit19c972126b724aac879ac112e9ba0e70",
   "display_name": "Python 3.8.2 32-bit",
   "language": "python"
  }
 },
 "nbformat": 4,
 "nbformat_minor": 2,
 "cells": [
  {
   "source": [
    "1. Из колоды в 52 карты извлекаются случайным образом 4 карты. \n",
    "\n",
    "* Найти вероятность того, что все карты – крести\n",
    "* Найти вероятность, что среди 4-х карт окажется хотя бы один туз"
   ],
   "cell_type": "markdown",
   "metadata": {}
  },
  {
   "cell_type": "code",
   "execution_count": 11,
   "metadata": {},
   "outputs": [
    {
     "output_type": "execute_result",
     "data": {
      "text/plain": [
       "0.0026410564225690276"
      ]
     },
     "metadata": {},
     "execution_count": 11
    }
   ],
   "source": [
    "# Всего крестей в колоде 13 штук. Надо разделить сочетания 4-х карт из 13 на сочетание 4-х из 52\n",
    "\n",
    "from math import factorial as fact\n",
    "\n",
    "a = fact(13)/(fact(4)*fact(13-4))\n",
    "b = fact(52)/(fact(4)*fact(52-4))\n",
    "a/b"
   ]
  },
  {
   "cell_type": "code",
   "execution_count": 10,
   "metadata": {},
   "outputs": [
    {
     "output_type": "execute_result",
     "data": {
      "text/plain": [
       "1.4775140825560994e-05"
      ]
     },
     "metadata": {},
     "execution_count": 10
    }
   ],
   "source": [
    "from math import factorial as fact\n",
    "\n",
    "a = fact(4)/(fact(1)*fact(4-1))\n",
    "b = fact(52)/(fact(4)*fact(52-4))\n",
    "a/b"
   ]
  },
  {
   "source": [
    "2. На входной двери подъезда установлен кодовый замок, содержащий десять кнопок с цифрами от 0 до 9. Код содержит три цифры, которые нужно нажать одновременно. Какова вероятность того, что человек, не знающий код, откроет дверь с первой попытки?"
   ],
   "cell_type": "markdown",
   "metadata": {}
  },
  {
   "cell_type": "code",
   "execution_count": 5,
   "metadata": {},
   "outputs": [
    {
     "output_type": "execute_result",
     "data": {
      "text/plain": [
       "0.008333333333333333"
      ]
     },
     "metadata": {},
     "execution_count": 5
    }
   ],
   "source": [
    "(3/10)*(2/9)*(1/8)"
   ]
  },
  {
   "source": [
    "3. В ящике имеется 15 деталей, из которых 9 окрашены. Рабочий случайным образом извлекает 3 детали. Какова вероятность того, что все извлеченные детали окрашены?"
   ],
   "cell_type": "markdown",
   "metadata": {}
  },
  {
   "cell_type": "code",
   "execution_count": 4,
   "metadata": {},
   "outputs": [
    {
     "output_type": "execute_result",
     "data": {
      "text/plain": [
       "0.18461538461538457"
      ]
     },
     "metadata": {},
     "execution_count": 4
    }
   ],
   "source": [
    "(9/15)*(8/14)*(7/13)"
   ]
  },
  {
   "source": [
    "4. В лотерее 100 билетов. Из них 2 выигрышных. Какова вероятность того, что 2 приобретенных билета окажутся выигрышными?"
   ],
   "cell_type": "markdown",
   "metadata": {}
  },
  {
   "cell_type": "code",
   "execution_count": 3,
   "metadata": {},
   "outputs": [
    {
     "output_type": "execute_result",
     "data": {
      "text/plain": [
       "0.00020202020202020205"
      ]
     },
     "metadata": {},
     "execution_count": 3
    }
   ],
   "source": [
    "(2/100)*(1/99)"
   ]
  }
 ]
}