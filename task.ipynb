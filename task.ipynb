{
 "cells": [
  {
   "cell_type": "markdown",
   "metadata": {},
   "source": [
    "#### Даны значения зарплат из выборки выпускников: 100, 80, 75, 77, 89, 33, 45, 25, 65, 17, 30, 24, 57, 55, 70, 75, 65, 84, 90, 150. Посчитать (желательно без использования статистических методов наподобие std, var, mean) среднее арифметическое, среднее квадратичное отклонение, смещенную и несмещенную оценки дисперсий для данной выборки."
   ]
  },
  {
   "cell_type": "code",
   "execution_count": 8,
   "metadata": {},
   "outputs": [
    {
     "name": "stdout",
     "output_type": "stream",
     "text": [
      "Среднее арифметическое: 65.3\n",
      "Среднее квадратичное отклонение: 30.823854398825596\n",
      "Смещенная оценка дисперсии: 950.11\n",
      "Несмещенная оценка дисперсии: 1000.1157894736842\n"
     ]
    }
   ],
   "source": [
    "import math\n",
    "\n",
    "def average(items):\n",
    "    return sum(items) / len(items)\n",
    "\n",
    "def standard_deviation(items, avg):\n",
    "    return math.sqrt(sum(map(lambda itm: (itm - avg)**2, items)) / len(items))\n",
    "\n",
    "def variance_biased(items, avg):\n",
    "    return sum(map(lambda itm: (itm - avg)**2, items)) / len(items)\n",
    "\n",
    "def variance_unbiased(items, avg):\n",
    "    return sum(map(lambda itm: (itm - avg)**2, items)) / (len(items) - 1)\n",
    "\n",
    "salary = [100, 80, 75, 77, 89, 33, 45, 25, 65, 17, 30, 24, 57, 55, 70, 75, 65, 84, 90, 150]\n",
    "\n",
    "avg = average(salary)\n",
    "print(f'Среднее арифметическое: {avg}')\n",
    "print(f'Среднее квадратичное отклонение: {standard_deviation(salary, avg)}')\n",
    "print(f'Смещенная оценка дисперсии: {variance_biased(salary, avg)}')\n",
    "print(f'Несмещенная оценка дисперсии: {variance_unbiased(salary, avg)}')"
   ]
  },
  {
   "cell_type": "markdown",
   "metadata": {},
   "source": [
    "#### В первом ящике находится 8 мячей, из которых 5 - белые. Во втором ящике - 12 мячей, из которых 5 белых. Из первого ящика вытаскивают случайным образом два мяча, из второго - 4. Какова вероятность того, что 3 мяча белые?"
   ]
  },
  {
   "cell_type": "code",
   "execution_count": 2,
   "metadata": {},
   "outputs": [
    {
     "name": "stdout",
     "output_type": "stream",
     "text": [
      "Исход #1: 0.12626\n",
      "Исход #2: 0.22727\n",
      "Исход #3: 0.01515\n",
      "\n",
      "Вероятность события: 0.36869\n"
     ]
    }
   ],
   "source": [
    "from math import factorial\n",
    "\n",
    "def combinations(n, k):\n",
    "    return int(factorial(n) / (factorial(k) * factorial(n - k)))\n",
    "\n",
    "# Исход #1: из первого ящика достали 2 белых шара, из второго 1 белый и 3 черных\n",
    "prob_1_box_1 = (combinations(5, 2) * combinations(3, 0)) / combinations(8, 2)\n",
    "prob_1_box_2 = (combinations(5, 1) * combinations(7, 3)) / combinations(12, 4)\n",
    "prob_1 = prob_1_box_1 * prob_1_box_2\n",
    "print(f'Исход #1: {round(prob_1, 5)}')\n",
    "\n",
    "# Исход #2: из первого ящика достали 1 белый шар и 1 черный, из второго 2 белых и 2 черных\n",
    "prob_2_box_1 = (combinations(5, 1) * combinations(3, 1)) / combinations(8, 2)\n",
    "prob_2_box_2 = (combinations(5, 2) * combinations(7, 2)) / combinations(12, 4)\n",
    "prob_2 = prob_2_box_1 * prob_2_box_2\n",
    "print(f'Исход #2: {round(prob_2, 5)}')\n",
    "\n",
    "# Исход #3: из первого ящика достали 2 черных шара, из второго 3 белых и 1 черный\n",
    "prob_3_box_1 = (combinations(5, 0) * combinations(3, 2)) / combinations(8, 2)\n",
    "prob_3_box_2 = (combinations(5, 3) * combinations(7, 1)) / combinations(12, 4)\n",
    "prob_3 = prob_3_box_1 * prob_3_box_2\n",
    "print(f'Исход #3: {round(prob_3, 5)}\\n')\n",
    "\n",
    "print(f'Вероятность события: {round(prob_1 + prob_2 + prob_3, 5)}')"
   ]
  },
  {
   "cell_type": "markdown",
   "metadata": {},
   "source": [
    "#### На соревновании по биатлону один из трех спортсменов стреляет и попадает в мишень. Вероятность попадания для первого спортсмена равна 0.9, для второго — 0.8, для третьего — 0.6. Найти вероятность того, что выстрел произведен: \n",
    " * a) первым спортсменом\n",
    " * б) вторым спортсменом\n",
    " * в) третьим спортсменом"
   ]
  },
  {
   "cell_type": "code",
   "execution_count": 6,
   "metadata": {},
   "outputs": [
    {
     "name": "stdout",
     "output_type": "stream",
     "text": [
      "а. 0.391\n",
      "б. 0.348\n",
      "в. 0.261\n"
     ]
    }
   ],
   "source": [
    "a = 0.9\n",
    "b = 0.8\n",
    "c = 0.6\n",
    "\n",
    "P = (1/3 * a) + (1/3 * b) + (1/3 * c)\n",
    "\n",
    "print(f'а. {round((1/3 * a) / P, 3)}')\n",
    "print(f'б. {round((1/3 * b) / P, 3)}')\n",
    "print(f'в. {round((1/3 * c) / P, 3)}')\n",
    "\n"
   ]
  },
  {
   "cell_type": "markdown",
   "metadata": {},
   "source": [
    "#### В университет на факультеты A и B поступило равное количество студентов, а на факультет C студентов поступило столько же, сколько на A и B вместе. Вероятность того, что студент факультета A сдаст первую сессию, равна 0.8. Для студента факультета B эта вероятность равна 0.7, а для студента факультета C - 0.9. Студент сдал первую сессию. Какова вероятность, что он учится:\n",
    " * a) на факультете A\n",
    " * б) на факультете B\n",
    " * в) на факультете C"
   ]
  },
  {
   "cell_type": "code",
   "execution_count": 13,
   "metadata": {},
   "outputs": [
    {
     "name": "stdout",
     "output_type": "stream",
     "text": [
      "а. 0.242\n",
      "б. 0.212\n",
      "в. 0.545\n"
     ]
    }
   ],
   "source": [
    "A = 0.8\n",
    "B = 0.7\n",
    "C = 0.9\n",
    "\n",
    "P = (1/4 * A) + (1/4 * B) + (1/2 * C)\n",
    "\n",
    "print(f'а. {round((1/4 * A) / P, 3)}')\n",
    "print(f'б. {round((1/4 * B) / P, 3)}')\n",
    "print(f'в. {round((1/2 * C) / P, 3)}')"
   ]
  },
  {
   "cell_type": "markdown",
   "metadata": {},
   "source": [
    "#### Устройство состоит из трех деталей. Для первой детали вероятность выйти из строя в первый месяц равна 0.1, для второй - 0.2, для третьей - 0.25. Какова вероятность того, что в первый месяц выйдут из строя:\n",
    " * а) все детали\n",
    " * б) только две детали\n",
    " * в) хотя бы одна деталь\n",
    " * г) от одной до двух деталей"
   ]
  },
  {
   "cell_type": "code",
   "execution_count": 7,
   "metadata": {},
   "outputs": [
    {
     "name": "stdout",
     "output_type": "stream",
     "text": [
      "а. 0.005\n",
      "б. 0.095\n",
      "в. 0.46\n",
      "г. 0.645\n"
     ]
    }
   ],
   "source": [
    "p_1 = 0.1\n",
    "p_2 = 0.2\n",
    "p_3 = 0.25\n",
    "\n",
    "print(f'а. {round((p_1 * p_2 * p_3), 3)}')\n",
    "print(f'б. {round((p_1 * p_2) + (p_1 * p_3) + (p_2 * p_3), 3)}')\n",
    "print(f'в. {round(1 - (0.9 * 0.8 * 0.75), 3)}')\n",
    "print(f'г. {round((p_1 + p_2 + p_3) + (p_1 * p_2) + (p_1 * p_3) + (p_2 * p_3), 3)}')"
   ]
  }
 ],
 "metadata": {
  "kernelspec": {
   "display_name": "Python 3.7.7 64-bit",
   "language": "python",
   "name": "python37764bit3fbe5ae206bf467f9f636d844c57ff6e"
  },
  "language_info": {
   "codemirror_mode": {
    "name": "ipython",
    "version": 3
   },
   "file_extension": ".py",
   "mimetype": "text/x-python",
   "name": "python",
   "nbconvert_exporter": "python",
   "pygments_lexer": "ipython3",
   "version": "3.7.7"
  }
 },
 "nbformat": 4,
 "nbformat_minor": 2
}